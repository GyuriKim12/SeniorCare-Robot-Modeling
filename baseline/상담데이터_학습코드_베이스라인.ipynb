{
  "cells": [
    {
      "cell_type": "code",
      "execution_count": 1,
      "metadata": {
        "colab": {
          "base_uri": "https://localhost:8080/"
        },
        "id": "6hEh4wW95ElL",
        "outputId": "8960b6c3-128c-4ac2-c611-0607b51fc9aa"
      },
      "outputs": [
        {
          "name": "stdout",
          "output_type": "stream",
          "text": [
            "Mounted at /content/drive\n"
          ]
        }
      ],
      "source": [
        "from google.colab import drive\n",
        "drive.mount('/content/drive')"
      ]
    },
    {
      "cell_type": "code",
      "execution_count": 2,
      "metadata": {
        "id": "iFFfW2qVojEq"
      },
      "outputs": [],
      "source": [
        "import pandas as pd\n",
        "from sklearn.preprocessing import LabelEncoder\n",
        "from transformers import ElectraTokenizer\n",
        "import torch\n",
        "import torch.nn as nn\n",
        "from transformers import ElectraModel\n",
        "from torch.utils.data import Dataset\n",
        "from torch.utils.data import DataLoader\n",
        "import copy\n",
        "import random\n",
        "from sklearn.model_selection import train_test_split\n",
        "from torch.nn.utils.rnn import pad_sequence\n",
        "from sklearn.metrics import accuracy_score, f1_score, classification_report, confusion_matrix\n",
        "import torch.nn.functional as F"
      ]
    },
    {
      "cell_type": "code",
      "execution_count": null,
      "metadata": {
        "id": "yBIBnn0uk4RP"
      },
      "outputs": [],
      "source": [
        "df = pd.read_csv(\"/content/drive/MyDrive/SBERT_result1.csv\")"
      ]
    },
    {
      "cell_type": "markdown",
      "metadata": {
        "id": "r-WQW1c6ly3C"
      },
      "source": [
        "### 데이터 전처리 및 학습 데이터 준비"
      ]
    },
    {
      "cell_type": "code",
      "execution_count": null,
      "metadata": {
        "id": "6goJkjIblZ5a"
      },
      "outputs": [],
      "source": [
        "df.head()"
      ]
    },
    {
      "cell_type": "code",
      "execution_count": null,
      "metadata": {
        "id": "y1n1ZiMrnegx"
      },
      "outputs": [],
      "source": [
        "df.drop(columns=['Unnamed: 0'], inplace=True)"
      ]
    },
    {
      "cell_type": "code",
      "execution_count": 6,
      "metadata": {
        "colab": {
          "base_uri": "https://localhost:8080/"
        },
        "id": "2W1SqNy3oER2",
        "outputId": "9f26cf69-9c3f-4555-a442-356741ee1cc9"
      },
      "outputs": [
        {
          "data": {
            "text/plain": [
              "55313"
            ]
          },
          "execution_count": 6,
          "metadata": {},
          "output_type": "execute_result"
        }
      ],
      "source": [
        "len(df)"
      ]
    },
    {
      "cell_type": "code",
      "execution_count": 7,
      "metadata": {
        "id": "iW3FtVuxoCac"
      },
      "outputs": [],
      "source": [
        "df.dropna(inplace=True)"
      ]
    },
    {
      "cell_type": "code",
      "execution_count": 8,
      "metadata": {
        "colab": {
          "base_uri": "https://localhost:8080/"
        },
        "id": "r5itMQNuoFrF",
        "outputId": "d1baf0dd-8b07-4b47-fd12-9eb3d8b1b9ee"
      },
      "outputs": [
        {
          "data": {
            "text/plain": [
              "55313"
            ]
          },
          "execution_count": 8,
          "metadata": {},
          "output_type": "execute_result"
        }
      ],
      "source": [
        "len(df)"
      ]
    },
    {
      "cell_type": "code",
      "execution_count": 9,
      "metadata": {
        "id": "8RioTnZTG2Uw"
      },
      "outputs": [],
      "source": [
        "import re\n",
        "\n",
        "pattern = r\"\\b\\d+\\.\"\n",
        "\n",
        "df = df[~df[\"text\"].str.contains(pattern, regex=True)]\n",
        "df = df[~df[\"text\"].str.fullmatch(r\"\\s*\\d+\\s*\")]\n",
        "\n",
        "df = df.reset_index(drop=True)"
      ]
    },
    {
      "cell_type": "code",
      "execution_count": 10,
      "metadata": {
        "colab": {
          "base_uri": "https://localhost:8080/"
        },
        "id": "g3p5ZR05G59p",
        "outputId": "2058c261-6896-45f8-e726-f902a72ec9bc"
      },
      "outputs": [
        {
          "data": {
            "text/plain": [
              "54374"
            ]
          },
          "execution_count": 10,
          "metadata": {},
          "output_type": "execute_result"
        }
      ],
      "source": [
        "len(df)"
      ]
    },
    {
      "cell_type": "code",
      "execution_count": 12,
      "metadata": {
        "id": "coshFEkelrKZ"
      },
      "outputs": [],
      "source": [
        "#라벨 인코딩 진행\n",
        "le = LabelEncoder()\n",
        "df['label'] = le.fit_transform(df['depression_level'])"
      ]
    },
    {
      "cell_type": "code",
      "execution_count": 13,
      "metadata": {
        "colab": {
          "base_uri": "https://localhost:8080/",
          "height": 241
        },
        "id": "FePEHMiGf1cV",
        "outputId": "09abcf9d-d832-4869-c1ca-14a09361009d"
      },
      "outputs": [
        {
          "data": {
            "text/html": [
              "<div>\n",
              "<style scoped>\n",
              "    .dataframe tbody tr th:only-of-type {\n",
              "        vertical-align: middle;\n",
              "    }\n",
              "\n",
              "    .dataframe tbody tr th {\n",
              "        vertical-align: top;\n",
              "    }\n",
              "\n",
              "    .dataframe thead th {\n",
              "        text-align: right;\n",
              "    }\n",
              "</style>\n",
              "<table border=\"1\" class=\"dataframe\">\n",
              "  <thead>\n",
              "    <tr style=\"text-align: right;\">\n",
              "      <th></th>\n",
              "      <th>count</th>\n",
              "    </tr>\n",
              "    <tr>\n",
              "      <th>label</th>\n",
              "      <th></th>\n",
              "    </tr>\n",
              "  </thead>\n",
              "  <tbody>\n",
              "    <tr>\n",
              "      <th>0</th>\n",
              "      <td>52832</td>\n",
              "    </tr>\n",
              "    <tr>\n",
              "      <th>1</th>\n",
              "      <td>831</td>\n",
              "    </tr>\n",
              "    <tr>\n",
              "      <th>2</th>\n",
              "      <td>567</td>\n",
              "    </tr>\n",
              "    <tr>\n",
              "      <th>3</th>\n",
              "      <td>144</td>\n",
              "    </tr>\n",
              "  </tbody>\n",
              "</table>\n",
              "</div><br><label><b>dtype:</b> int64</label>"
            ],
            "text/plain": [
              "label\n",
              "0    52832\n",
              "1      831\n",
              "2      567\n",
              "3      144\n",
              "Name: count, dtype: int64"
            ]
          },
          "execution_count": 13,
          "metadata": {},
          "output_type": "execute_result"
        }
      ],
      "source": [
        "df['label'].value_counts()"
      ]
    },
    {
      "cell_type": "code",
      "execution_count": 14,
      "metadata": {
        "id": "kp6XmSG9l4BX"
      },
      "outputs": [],
      "source": [
        "# #발화간 시간 차이에 대한 피쳐를 추가함\n",
        "# df['uttered_at'] = pd.to_datetime(df['uttered_at'], errors='coerce')\n",
        "# df = df.sort_values(by=['doll_id', 'uttered_at'])\n",
        "# df['time_gap'] = df.groupby('doll_id')['uttered_at'].diff().dt.total_seconds().fillna(0) / 60.0"
      ]
    },
    {
      "cell_type": "code",
      "execution_count": 15,
      "metadata": {
        "id": "0zjlFYyJmGYM"
      },
      "outputs": [],
      "source": [
        "#세션 분할 -> 10개의 row를 하나의 세션으로 묶음\n",
        "session_id = []\n",
        "for pid, group in df.groupby(\"id\"):\n",
        "    sid = 1\n",
        "    count = 0\n",
        "    for _ in range(len(group)):\n",
        "        session_id.append(f\"{pid}_{sid}\")\n",
        "        count += 1\n",
        "        if count == 10:   # 10개 발화마다 새로운 session 시작\n",
        "            sid += 1\n",
        "            count = 0\n",
        "\n",
        "df[\"session_id\"] = session_id"
      ]
    },
    {
      "cell_type": "code",
      "execution_count": 16,
      "metadata": {
        "colab": {
          "base_uri": "https://localhost:8080/",
          "height": 223,
          "referenced_widgets": [
            "8db98009402a42df9f77bb6a3af18139",
            "654d285cff8343adb6ae7f00fb653d4c",
            "755eb8b54e43411cb7f85a5052c5da23",
            "98f38a79e7f14dbba6fa87ef232e9f73",
            "c60a8c9ce7f943a6b758db1a77035a30",
            "a204e855391f4bde96bbdb16adb50994",
            "af7d4509bf4d4c4d8854d8851820c348",
            "297e436de54a465f9777666bb49ef149",
            "233bf691a11b44919d89a0d6a1a7e783",
            "81529e20e25e4b3eb70c34dbb16814a9",
            "2214e5d193c043369f17d9798d0000f3",
            "48304cec4a51436bb1ed5943435feb2a",
            "6b07d5f8bdce4626a361a44bb45d35ed",
            "e2c6ec73ad454c0e93e88286a5a5ea35",
            "da85494aa9a242a987495ba550413465",
            "a173d038a73a4d5f9c533cffee1409c0",
            "6c2160f24b244033adec7dfd56cac6e7",
            "33b0aacf5e6545fa9d39313338450f65",
            "21bdc6eaa88f4d75951435d314da6750",
            "19f3e98a244445099036e06c4ab3eba0",
            "8c18f9ba610045068fbb533075bf230b",
            "a7382519f453498eb288afa938aa5276",
            "01af3527e64e49c4bcefe980a0643115",
            "8de96ebf220443218a1e39ea28e92603",
            "526f42e10ba54e3ba22d4652302ed944",
            "4917ee849a8b4be984bf046011b2cb17",
            "8dc7983e7b944556b6ed6f6d32937b25",
            "ab29911f3ba14808a75b24b7371be566",
            "84bdc12080034374a2ce844b626eb4e4",
            "f0f72c2ed0fe4e5dbb8e7e6672ed7363",
            "b07169989efc49949995b93aefdf5b99",
            "e2345ffa0b0e460eb7b60b4e6221c345",
            "cd7ee65c90714baeb35c4405d7570c3f"
          ]
        },
        "id": "WqrzB4YxmvkW",
        "outputId": "015c8eba-ccaa-4528-f511-5248b1209f02"
      },
      "outputs": [
        {
          "name": "stderr",
          "output_type": "stream",
          "text": [
            "/usr/local/lib/python3.12/dist-packages/huggingface_hub/utils/_auth.py:94: UserWarning: \n",
            "The secret `HF_TOKEN` does not exist in your Colab secrets.\n",
            "To authenticate with the Hugging Face Hub, create a token in your settings tab (https://huggingface.co/settings/tokens), set it as secret in your Google Colab and restart your session.\n",
            "You will be able to reuse this secret in all of your notebooks.\n",
            "Please note that authentication is recommended but still optional to access public models or datasets.\n",
            "  warnings.warn(\n"
          ]
        },
        {
          "data": {
            "application/vnd.jupyter.widget-view+json": {
              "model_id": "8db98009402a42df9f77bb6a3af18139",
              "version_major": 2,
              "version_minor": 0
            },
            "text/plain": [
              "tokenizer_config.json:   0%|          | 0.00/60.0 [00:00<?, ?B/s]"
            ]
          },
          "metadata": {},
          "output_type": "display_data"
        },
        {
          "data": {
            "application/vnd.jupyter.widget-view+json": {
              "model_id": "48304cec4a51436bb1ed5943435feb2a",
              "version_major": 2,
              "version_minor": 0
            },
            "text/plain": [
              "vocab.txt: 0.00B [00:00, ?B/s]"
            ]
          },
          "metadata": {},
          "output_type": "display_data"
        },
        {
          "data": {
            "application/vnd.jupyter.widget-view+json": {
              "model_id": "01af3527e64e49c4bcefe980a0643115",
              "version_major": 2,
              "version_minor": 0
            },
            "text/plain": [
              "config.json:   0%|          | 0.00/466 [00:00<?, ?B/s]"
            ]
          },
          "metadata": {},
          "output_type": "display_data"
        }
      ],
      "source": [
        "#세션단위 인코딩\n",
        "tokenizer = ElectraTokenizer.from_pretrained(\"monologg/koelectra-small-discriminator\")"
      ]
    },
    {
      "cell_type": "code",
      "execution_count": 17,
      "metadata": {
        "id": "LTnN5F1toogX"
      },
      "outputs": [],
      "source": [
        "def encode_session(tokenizer, texts, max_len=128):\n",
        "    input_ids_list, attention_masks_list = [], []\n",
        "    for text in texts:\n",
        "        enc = tokenizer(\n",
        "            text,\n",
        "            padding=\"max_length\",\n",
        "            truncation=True,\n",
        "            max_length=max_len,\n",
        "            return_tensors=\"pt\",\n",
        "        )\n",
        "        input_ids_list.append(enc[\"input_ids\"])\n",
        "        attention_masks_list.append(enc[\"attention_mask\"])\n",
        "\n",
        "    input_ids = torch.cat(input_ids_list, dim=0)            # (U, L)\n",
        "    attention_mask = torch.cat(attention_masks_list, dim=0) # (U, L)\n",
        "\n",
        "    return {\"input_ids\": input_ids, \"attention_mask\": attention_mask}"
      ]
    },
    {
      "cell_type": "code",
      "execution_count": 18,
      "metadata": {
        "id": "JMJcypOjo0hF"
      },
      "outputs": [],
      "source": [
        "class ConversationDataset(Dataset):\n",
        "    def __init__(self, df, tokenizer, max_len=128):\n",
        "        self.df = df.reset_index(drop=True)\n",
        "        self.tokenizer = tokenizer\n",
        "        self.max_len = max_len\n",
        "        self.sessions = list(self.df.groupby(\"session_id\"))  # (session_id, session_df) 리스트\n",
        "\n",
        "    def __len__(self):\n",
        "        return len(self.sessions)\n",
        "\n",
        "    def __getitem__(self, idx):\n",
        "        session_id, session_df = self.sessions[idx]\n",
        "        texts = session_df['text'].tolist()\n",
        "        labels = session_df['label'].tolist()\n",
        "        row_indices = session_df.index.tolist()\n",
        "\n",
        "        examples = []\n",
        "        for i in range(len(texts)):\n",
        "            # time_gap 없이 encode_session 호출\n",
        "            enc = encode_session(self.tokenizer, texts[:i+1], max_len=self.max_len)\n",
        "\n",
        "            label = labels[i]\n",
        "            row_idx = row_indices[i]\n",
        "            current_text = texts[i]  # 현재 시점 발화\n",
        "\n",
        "            examples.append((enc, label, row_idx, current_text))\n",
        "\n",
        "        return examples, session_id"
      ]
    },
    {
      "cell_type": "code",
      "execution_count": 19,
      "metadata": {
        "id": "yTSwDm7rpZ0I"
      },
      "outputs": [],
      "source": [
        "def collate_fn(batch):\n",
        "    input_ids, attention_mask = [], []\n",
        "    labels, texts, indices = [], [], []\n",
        "\n",
        "    for examples, _ in batch:\n",
        "        for enc, label, idx, current_text in examples:\n",
        "            input_ids.append(enc[\"input_ids\"])           # (U, L) tensor\n",
        "            attention_mask.append(enc[\"attention_mask\"]) # (U, L) tensor\n",
        "            labels.append(label)\n",
        "            texts.append(current_text)                   # 현재 발화\n",
        "            indices.append(idx)\n",
        "\n",
        "    return {\n",
        "        \"input_ids\": input_ids,\n",
        "        \"attention_mask\": attention_mask,\n",
        "        \"labels\": torch.tensor(labels, dtype=torch.long),\n",
        "        \"texts\": texts,\n",
        "        \"indices\": torch.tensor(indices, dtype=torch.long),\n",
        "    }"
      ]
    },
    {
      "cell_type": "code",
      "execution_count": 20,
      "metadata": {
        "id": "epndOB33s0aI"
      },
      "outputs": [],
      "source": [
        "# session_id 단위로 train/test 나눠야함\n",
        "session_ids = df['session_id'].unique()\n",
        "\n",
        "# 먼저 train+val / test 분리\n",
        "trainval_sess, test_sess = train_test_split(\n",
        "    session_ids, test_size=0.2, random_state=42\n",
        ")\n",
        "\n",
        "# 다시 train / val 분리\n",
        "train_sess, val_sess = train_test_split(\n",
        "    trainval_sess, test_size=0.25, random_state=42  # 전체의 20% val, 60% train\n",
        ")\n",
        "\n",
        "train_df = df[df['session_id'].isin(train_sess)].reset_index(drop=True)\n",
        "val_df   = df[df['session_id'].isin(val_sess)].reset_index(drop=True)\n",
        "test_df  = df[df['session_id'].isin(test_sess)].reset_index(drop=True)"
      ]
    },
    {
      "cell_type": "code",
      "execution_count": 21,
      "metadata": {
        "colab": {
          "base_uri": "https://localhost:8080/",
          "height": 241
        },
        "id": "QvcaMvzIigWX",
        "outputId": "c4b0ca48-de6a-4347-9952-8ffb4c02f988"
      },
      "outputs": [
        {
          "data": {
            "text/html": [
              "<div>\n",
              "<style scoped>\n",
              "    .dataframe tbody tr th:only-of-type {\n",
              "        vertical-align: middle;\n",
              "    }\n",
              "\n",
              "    .dataframe tbody tr th {\n",
              "        vertical-align: top;\n",
              "    }\n",
              "\n",
              "    .dataframe thead th {\n",
              "        text-align: right;\n",
              "    }\n",
              "</style>\n",
              "<table border=\"1\" class=\"dataframe\">\n",
              "  <thead>\n",
              "    <tr style=\"text-align: right;\">\n",
              "      <th></th>\n",
              "      <th>count</th>\n",
              "    </tr>\n",
              "    <tr>\n",
              "      <th>label</th>\n",
              "      <th></th>\n",
              "    </tr>\n",
              "  </thead>\n",
              "  <tbody>\n",
              "    <tr>\n",
              "      <th>0</th>\n",
              "      <td>31649</td>\n",
              "    </tr>\n",
              "    <tr>\n",
              "      <th>1</th>\n",
              "      <td>516</td>\n",
              "    </tr>\n",
              "    <tr>\n",
              "      <th>2</th>\n",
              "      <td>338</td>\n",
              "    </tr>\n",
              "    <tr>\n",
              "      <th>3</th>\n",
              "      <td>93</td>\n",
              "    </tr>\n",
              "  </tbody>\n",
              "</table>\n",
              "</div><br><label><b>dtype:</b> int64</label>"
            ],
            "text/plain": [
              "label\n",
              "0    31649\n",
              "1      516\n",
              "2      338\n",
              "3       93\n",
              "Name: count, dtype: int64"
            ]
          },
          "execution_count": 21,
          "metadata": {},
          "output_type": "execute_result"
        }
      ],
      "source": [
        "train_df['label'].value_counts()"
      ]
    },
    {
      "cell_type": "code",
      "execution_count": 22,
      "metadata": {
        "id": "LIXGEsS2teWC"
      },
      "outputs": [],
      "source": [
        "# Dataset 생성\n",
        "train_dataset = ConversationDataset(train_df, tokenizer, max_len=128)\n",
        "val_dataset   = ConversationDataset(val_df, tokenizer, max_len=128)\n",
        "test_dataset  = ConversationDataset(test_df, tokenizer, max_len=128)\n",
        "\n",
        "# DataLoader 생성\n",
        "# batch size 크기도 실험 대상\n",
        "train_loader = DataLoader(\n",
        "    train_dataset,\n",
        "    batch_size=4,\n",
        "    shuffle=True,\n",
        "    collate_fn=collate_fn\n",
        ")\n",
        "\n",
        "val_loader = DataLoader(\n",
        "    val_dataset,\n",
        "    batch_size=4,\n",
        "    shuffle=False,\n",
        "    collate_fn=collate_fn\n",
        ")\n",
        "\n",
        "test_loader = DataLoader(\n",
        "    test_dataset,\n",
        "    batch_size=4,\n",
        "    shuffle=False,\n",
        "    collate_fn=collate_fn\n",
        ")"
      ]
    },
    {
      "cell_type": "markdown",
      "metadata": {
        "id": "yaFTKLZuqrEX"
      },
      "source": [
        "### 모델 정의"
      ]
    },
    {
      "cell_type": "code",
      "execution_count": 23,
      "metadata": {
        "id": "iOTRnyjpqttG"
      },
      "outputs": [],
      "source": [
        "class RiskClassifier(nn.Module):\n",
        "    def __init__(self, base_model=\"monologg/koelectra-small-discriminator\",\n",
        "                 hidden_size=256, num_classes=4, finetune_layers=2):\n",
        "        super().__init__()\n",
        "        # Local Encoder\n",
        "        self.local_encoder = ElectraModel.from_pretrained(base_model)\n",
        "        local_dim = self.local_encoder.config.hidden_size\n",
        "\n",
        "        for param in self.local_encoder.parameters():\n",
        "          param.requires_grad = False\n",
        "\n",
        "        # tuning할 layer\n",
        "        if finetune_layers > 0:\n",
        "            for layer in self.local_encoder.encoder.layer[-finetune_layers:]:\n",
        "                for param in layer.parameters():\n",
        "                    param.requires_grad = True\n",
        "\n",
        "        # Global Encoder -> BiLSTM\n",
        "        # 일단 layer 하나로 둠\n",
        "        self.global_encoder = nn.LSTM(\n",
        "            input_size=local_dim,\n",
        "            hidden_size=hidden_size,\n",
        "            num_layers=1,\n",
        "            batch_first=True,\n",
        "            bidirectional=True\n",
        "        )\n",
        "        global_dim = hidden_size * 2\n",
        "\n",
        "        # Attention Layer (발화 중요도 계산)\n",
        "        self.attn = nn.Linear(global_dim, 1)\n",
        "\n",
        "        # 최종 분류기: [세션 어텐션 요약 + 마지막 발화]\n",
        "        self.fc = nn.Linear(global_dim * 2, num_classes)\n",
        "\n",
        "    def forward(self, input_ids, attention_mask):\n",
        "        \"\"\"\n",
        "        input_ids: (B, U, L)\n",
        "        attention_mask: (B, U, L)\n",
        "        \"\"\"\n",
        "        B, U, L = input_ids.shape\n",
        "\n",
        "        # ---- Local Encoder ----\n",
        "        input_ids = input_ids.view(-1, L)             # (B*U, L)\n",
        "        attention_mask = attention_mask.view(-1, L)   # (B*U, L)\n",
        "        outputs = self.local_encoder(input_ids, attention_mask=attention_mask)\n",
        "        utter_embeds = outputs.last_hidden_state[:, 0, :]  # CLS (B*U, local_dim)\n",
        "\n",
        "        # reshape back to (B, U, local_dim)\n",
        "        utter_embeds = utter_embeds.view(B, U, -1)\n",
        "\n",
        "        # ---- Global Encoder ----\n",
        "        global_out, _ = self.global_encoder(utter_embeds)  # (B, U, 2*hidden_size)\n",
        "\n",
        "        # ---- Attention Pooling ----\n",
        "        attn_scores = self.attn(global_out).squeeze(-1)    # (B, U)\n",
        "        attn_weights = torch.softmax(attn_scores, dim=1)   # (B, U)\n",
        "        session_repr = torch.bmm(attn_weights.unsqueeze(1), global_out).squeeze(1)\n",
        "        # (B, 2*hidden_size)\n",
        "\n",
        "        # ---- 마지막 발화 ----\n",
        "        last_repr = global_out[:, -1, :]  # (B, 2*hidden_size)\n",
        "\n",
        "        # ---- 결합 ----\n",
        "        final_repr = torch.cat([last_repr, session_repr], dim=-1)  # (B, 4*hidden_size)\n",
        "\n",
        "        # ---- 분류 ----\n",
        "        logits = self.fc(final_repr)\n",
        "        return logits"
      ]
    },
    {
      "cell_type": "markdown",
      "metadata": {
        "id": "bfB8PSJorUTF"
      },
      "source": [
        "### 학습 코드"
      ]
    },
    {
      "cell_type": "code",
      "execution_count": 24,
      "metadata": {
        "id": "B536qtZ6m5Iv"
      },
      "outputs": [],
      "source": [
        "from torch.cuda.amp import autocast, GradScaler"
      ]
    },
    {
      "cell_type": "code",
      "execution_count": 25,
      "metadata": {
        "id": "EFs_13AXr9D-"
      },
      "outputs": [],
      "source": [
        "device = torch.device(\"cuda\" if torch.cuda.is_available() else \"cpu\")"
      ]
    },
    {
      "cell_type": "code",
      "execution_count": 26,
      "metadata": {
        "id": "mN1M-GJD1lye"
      },
      "outputs": [],
      "source": [
        "#데이터 불균형 문제 때문에 잘 맞춘 샘플은 loss 기여도를 줄이고, 어려운 샘플에 집중하도록 하기 위해 Focal Loss 사용(pytorch의 경우에는 loss함수 구현해야함)\n",
        "class FocalLoss(nn.Module):\n",
        "    def __init__(self, alpha=None, gamma=2.0, reduction=\"mean\"):\n",
        "        \"\"\"\n",
        "        alpha: 클래스 가중치 Tensor (shape [num_classes])\n",
        "        gamma: focusing parameter\n",
        "        \"\"\"\n",
        "        super().__init__()\n",
        "        self.alpha = alpha\n",
        "        self.gamma = gamma\n",
        "        self.reduction = reduction\n",
        "\n",
        "    def forward(self, inputs, targets):\n",
        "        # inputs: (B, C) - raw logits\n",
        "        # targets: (B,)\n",
        "        log_probs = F.log_softmax(inputs, dim=-1)   # (B,C)\n",
        "        probs = torch.exp(log_probs)                # (B,C)\n",
        "\n",
        "        # one-hot으로 정답 위치만 추출\n",
        "        targets_one_hot = F.one_hot(targets, num_classes=inputs.size(1)).float()\n",
        "        pt = (probs * targets_one_hot).sum(dim=-1)      # (B,)\n",
        "        log_pt = (log_probs * targets_one_hot).sum(dim=-1)  # (B,)\n",
        "\n",
        "        # focal loss\n",
        "        if self.alpha is not None:\n",
        "            at = self.alpha.to(inputs.device)[targets]  # (B,)\n",
        "        else:\n",
        "            at = 1.0\n",
        "\n",
        "        focal_loss = -at * (1 - pt) ** self.gamma * log_pt\n",
        "\n",
        "        if self.reduction == \"mean\":\n",
        "            return focal_loss.mean()\n",
        "        elif self.reduction == \"sum\":\n",
        "            return focal_loss.sum()\n",
        "        else:\n",
        "            return focal_loss"
      ]
    },
    {
      "cell_type": "code",
      "execution_count": 38,
      "metadata": {
        "colab": {
          "base_uri": "https://localhost:8080/"
        },
        "id": "upFlEsSPla8G",
        "outputId": "a49867e7-e199-48d0-d5d6-5c9d6076bf49"
      },
      "outputs": [
        {
          "name": "stderr",
          "output_type": "stream",
          "text": [
            "/tmp/ipython-input-3904109881.py:11: FutureWarning: `torch.cuda.amp.GradScaler(args...)` is deprecated. Please use `torch.amp.GradScaler('cuda', args...)` instead.\n",
            "  scaler = GradScaler()\n"
          ]
        }
      ],
      "source": [
        "class_counts = train_df[\"label\"].value_counts().sort_index().values\n",
        "weights = 1.0 / (torch.tensor(class_counts, dtype=torch.float) ** 0.7)\n",
        "weights = (len(weights) * weights) / weights.sum()\n",
        "\n",
        "# 모델, 옵티마이저, 로스 정의\n",
        "# 파인 튜닝 할 layer 수(finetune_layers)도 하이퍼파라미터 값이므로 학습시킬 때 이 값 조정하면서 실험해봐야함!\n",
        "model = RiskClassifier(num_classes=len(le.classes_), finetune_layers=4).to(device)\n",
        "optimizer = torch.optim.AdamW(model.parameters(), lr=5e-5, weight_decay=0.01)\n",
        "# criterion = nn.CrossEntropyLoss(weight=weights.to(device))\n",
        "criterion = FocalLoss(alpha=weights.to(device), gamma=2.5)\n",
        "scaler = GradScaler()"
      ]
    },
    {
      "cell_type": "code",
      "execution_count": 39,
      "metadata": {
        "id": "a9NKuCKoq-SH"
      },
      "outputs": [],
      "source": [
        "num_epochs = 25"
      ]
    },
    {
      "cell_type": "code",
      "execution_count": 40,
      "metadata": {
        "colab": {
          "base_uri": "https://localhost:8080/"
        },
        "id": "ISdUp6XOtqn2",
        "outputId": "e60670f9-8c61-4c5a-92d9-2cd7c3319ab7"
      },
      "outputs": [
        {
          "name": "stdout",
          "output_type": "stream",
          "text": [
            "Epoch 1 | Train Loss=0.0350 | Val Loss=0.0295 | Val Acc=0.9756 | Val Macro-F1=0.2469\n",
            "Epoch 2 | Train Loss=0.0341 | Val Loss=0.0293 | Val Acc=0.9701 | Val Macro-F1=0.2558\n",
            "Epoch 3 | Train Loss=0.0337 | Val Loss=0.0290 | Val Acc=0.9647 | Val Macro-F1=0.2560\n",
            "Epoch 4 | Train Loss=0.0324 | Val Loss=0.0274 | Val Acc=0.9584 | Val Macro-F1=0.2624\n",
            "Epoch 5 | Train Loss=0.0304 | Val Loss=0.0263 | Val Acc=0.9233 | Val Macro-F1=0.2882\n",
            "Epoch 6 | Train Loss=0.0286 | Val Loss=0.0259 | Val Acc=0.9023 | Val Macro-F1=0.2998\n",
            "Epoch 7 | Train Loss=0.0263 | Val Loss=0.0282 | Val Acc=0.9060 | Val Macro-F1=0.2848\n",
            "Epoch 8 | Train Loss=0.0250 | Val Loss=0.0275 | Val Acc=0.8332 | Val Macro-F1=0.2701\n",
            "Epoch 9 | Train Loss=0.0225 | Val Loss=0.0299 | Val Acc=0.9225 | Val Macro-F1=0.2959\n",
            "Epoch 10 | Train Loss=0.0208 | Val Loss=0.0300 | Val Acc=0.9121 | Val Macro-F1=0.2969\n"
          ]
        }
      ],
      "source": [
        "for epoch in range(num_epochs):\n",
        "    # ===== Train =====\n",
        "    model.train()\n",
        "    total_loss = 0.0\n",
        "\n",
        "    for batch in train_loader:\n",
        "        labels = batch[\"labels\"].to(device)  # (B,)\n",
        "\n",
        "        # Pad\n",
        "        input_ids = pad_sequence(batch[\"input_ids\"], batch_first=True).to(device)\n",
        "        attention_mask = pad_sequence(batch[\"attention_mask\"], batch_first=True).to(device)\n",
        "\n",
        "        # Forward\n",
        "        with torch.amp.autocast(\"cuda\"):\n",
        "            logits = model(input_ids, attention_mask)  # (B, C)\n",
        "            loss = criterion(logits, labels)\n",
        "\n",
        "        # Backward\n",
        "        optimizer.zero_grad(set_to_none=True)\n",
        "        scaler.scale(loss).backward()\n",
        "        scaler.step(optimizer)\n",
        "        scaler.update()\n",
        "\n",
        "        total_loss += loss.item()\n",
        "\n",
        "    avg_train_loss = total_loss / len(train_loader)\n",
        "\n",
        "    # ===== Validation =====\n",
        "    model.eval()\n",
        "    val_loss, preds_all, labels_all = 0.0, [], []\n",
        "\n",
        "    with torch.no_grad():\n",
        "        for batch in val_loader:\n",
        "            labels = batch[\"labels\"].to(device)\n",
        "            input_ids = pad_sequence(batch[\"input_ids\"], batch_first=True).to(device)\n",
        "            attention_mask = pad_sequence(batch[\"attention_mask\"], batch_first=True).to(device)\n",
        "\n",
        "            with torch.amp.autocast(\"cuda\"):\n",
        "                logits = model(input_ids, attention_mask)\n",
        "                loss = criterion(logits, labels)\n",
        "\n",
        "            val_loss += loss.item()\n",
        "\n",
        "            preds = torch.argmax(logits, dim=-1)\n",
        "            preds_all.extend(preds.cpu().tolist())\n",
        "            labels_all.extend(labels.cpu().tolist())\n",
        "\n",
        "    avg_val_loss = val_loss / len(val_loader)\n",
        "    val_acc = accuracy_score(labels_all, preds_all)\n",
        "    val_f1 = f1_score(labels_all, preds_all, average=\"macro\")  # 불균형 데이터이므로 macro-F1 사용\n",
        "\n",
        "    print(\n",
        "        f\"Epoch {epoch+1} | \"\n",
        "        f\"Train Loss={avg_train_loss:.4f} | \"\n",
        "        f\"Val Loss={avg_val_loss:.4f} | \"\n",
        "        f\"Val Acc={val_acc:.4f} | \"\n",
        "        f\"Val Macro-F1={val_f1:.4f}\"\n",
        "    )"
      ]
    },
    {
      "cell_type": "markdown",
      "metadata": {
        "id": "pD-KNfXQsasr"
      },
      "source": [
        "### teat data를 이용한 성능 평가"
      ]
    },
    {
      "cell_type": "code",
      "execution_count": 41,
      "metadata": {
        "id": "Y5zXyC-PFz9h"
      },
      "outputs": [],
      "source": [
        "model.eval()\n",
        "test_loss, preds_all, labels_all = 0.0, [], []\n",
        "\n",
        "with torch.no_grad():\n",
        "    for batch in test_loader:\n",
        "        labels = batch[\"labels\"].to(device)\n",
        "        input_ids = pad_sequence(batch[\"input_ids\"], batch_first=True).to(device)\n",
        "        attention_mask = pad_sequence(batch[\"attention_mask\"], batch_first=True).to(device)\n",
        "\n",
        "        # Mixed precision inference\n",
        "        with torch.amp.autocast('cuda'):\n",
        "            logits = model(input_ids, attention_mask)\n",
        "            loss = criterion(logits, labels)\n",
        "\n",
        "        test_loss += loss.item()\n",
        "\n",
        "        preds = torch.argmax(logits, dim=-1)\n",
        "        preds_all.extend(preds.cpu().tolist())\n",
        "        labels_all.extend(labels.cpu().tolist())\n",
        "\n",
        "avg_test_loss = test_loss / len(test_loader)"
      ]
    },
    {
      "cell_type": "code",
      "execution_count": null,
      "metadata": {
        "colab": {
          "base_uri": "https://localhost:8080/"
        },
        "id": "GvnsxCL9oRoy",
        "outputId": "e01d2e7e-87b2-4aec-fc6a-eacbbb07c642"
      },
      "outputs": [
        {
          "name": "stdout",
          "output_type": "stream",
          "text": [
            "=== Test Performance ===\n",
            "Test Loss: 0.0300\n",
            "Test Acc: 0.6381\n",
            "Test Macro-F1: 0.2399\n",
            "Test Weighted-F1: 0.7597\n",
            "\n",
            "Classification Report:\n",
            "              precision    recall  f1-score   support\n",
            "\n",
            "           0     0.9899    0.6460    0.7818     10728\n",
            "           1     0.0455    0.3298    0.0800       188\n",
            "           2     0.0406    0.5179    0.0754       112\n",
            "           3     0.0117    0.3409    0.0226        44\n",
            "\n",
            "    accuracy                         0.6381     11072\n",
            "   macro avg     0.2719    0.4586    0.2399     11072\n",
            "weighted avg     0.9603    0.6381    0.7597     11072\n",
            "\n",
            "Confusion Matrix:\n",
            "[[6930 1278 1302 1218]\n",
            " [  47   62   52   27]\n",
            " [  14   18   58   22]\n",
            " [  10    4   15   15]]\n"
          ]
        }
      ],
      "source": [
        "test_acc = accuracy_score(labels_all, preds_all)\n",
        "test_macro_f1 = f1_score(labels_all, preds_all, average=\"macro\")\n",
        "\n",
        "print(\"=== Test Performance ===\")\n",
        "print(f\"Test Loss: {avg_test_loss:.4f}\")\n",
        "print(f\"Test Acc: {test_acc:.4f}\")\n",
        "print(f\"Test Macro-F1: {test_macro_f1:.4f}\")\n",
        "\n",
        "print(\"\\nClassification Report:\")\n",
        "print(classification_report(labels_all, preds_all, digits=4))\n",
        "\n",
        "print(\"Confusion Matrix:\")\n",
        "print(confusion_matrix(labels_all, preds_all))"
      ]
    },
    {
      "cell_type": "code",
      "execution_count": null,
      "metadata": {
        "id": "ysOnGg9J6jRm"
      },
      "outputs": [],
      "source": []
    }
  ],
  "metadata": {
    "accelerator": "GPU",
    "colab": {
      "gpuType": "T4",
      "provenance": []
    },
    "kernelspec": {
      "display_name": "Python 3",
      "name": "python3"
    },
    "language_info": {
      "name": "python"
    },
    "widgets": {
      "application/vnd.jupyter.widget-state+json": {
        "01af3527e64e49c4bcefe980a0643115": {
          "model_module": "@jupyter-widgets/controls",
          "model_module_version": "1.5.0",
          "model_name": "HBoxModel",
          "state": {
            "_dom_classes": [],
            "_model_module": "@jupyter-widgets/controls",
            "_model_module_version": "1.5.0",
            "_model_name": "HBoxModel",
            "_view_count": null,
            "_view_module": "@jupyter-widgets/controls",
            "_view_module_version": "1.5.0",
            "_view_name": "HBoxView",
            "box_style": "",
            "children": [
              "IPY_MODEL_8de96ebf220443218a1e39ea28e92603",
              "IPY_MODEL_526f42e10ba54e3ba22d4652302ed944",
              "IPY_MODEL_4917ee849a8b4be984bf046011b2cb17"
            ],
            "layout": "IPY_MODEL_8dc7983e7b944556b6ed6f6d32937b25"
          }
        },
        "19f3e98a244445099036e06c4ab3eba0": {
          "model_module": "@jupyter-widgets/controls",
          "model_module_version": "1.5.0",
          "model_name": "ProgressStyleModel",
          "state": {
            "_model_module": "@jupyter-widgets/controls",
            "_model_module_version": "1.5.0",
            "_model_name": "ProgressStyleModel",
            "_view_count": null,
            "_view_module": "@jupyter-widgets/base",
            "_view_module_version": "1.2.0",
            "_view_name": "StyleView",
            "bar_color": null,
            "description_width": ""
          }
        },
        "21bdc6eaa88f4d75951435d314da6750": {
          "model_module": "@jupyter-widgets/base",
          "model_module_version": "1.2.0",
          "model_name": "LayoutModel",
          "state": {
            "_model_module": "@jupyter-widgets/base",
            "_model_module_version": "1.2.0",
            "_model_name": "LayoutModel",
            "_view_count": null,
            "_view_module": "@jupyter-widgets/base",
            "_view_module_version": "1.2.0",
            "_view_name": "LayoutView",
            "align_content": null,
            "align_items": null,
            "align_self": null,
            "border": null,
            "bottom": null,
            "display": null,
            "flex": null,
            "flex_flow": null,
            "grid_area": null,
            "grid_auto_columns": null,
            "grid_auto_flow": null,
            "grid_auto_rows": null,
            "grid_column": null,
            "grid_gap": null,
            "grid_row": null,
            "grid_template_areas": null,
            "grid_template_columns": null,
            "grid_template_rows": null,
            "height": null,
            "justify_content": null,
            "justify_items": null,
            "left": null,
            "margin": null,
            "max_height": null,
            "max_width": null,
            "min_height": null,
            "min_width": null,
            "object_fit": null,
            "object_position": null,
            "order": null,
            "overflow": null,
            "overflow_x": null,
            "overflow_y": null,
            "padding": null,
            "right": null,
            "top": null,
            "visibility": null,
            "width": "20px"
          }
        },
        "2214e5d193c043369f17d9798d0000f3": {
          "model_module": "@jupyter-widgets/controls",
          "model_module_version": "1.5.0",
          "model_name": "DescriptionStyleModel",
          "state": {
            "_model_module": "@jupyter-widgets/controls",
            "_model_module_version": "1.5.0",
            "_model_name": "DescriptionStyleModel",
            "_view_count": null,
            "_view_module": "@jupyter-widgets/base",
            "_view_module_version": "1.2.0",
            "_view_name": "StyleView",
            "description_width": ""
          }
        },
        "233bf691a11b44919d89a0d6a1a7e783": {
          "model_module": "@jupyter-widgets/controls",
          "model_module_version": "1.5.0",
          "model_name": "ProgressStyleModel",
          "state": {
            "_model_module": "@jupyter-widgets/controls",
            "_model_module_version": "1.5.0",
            "_model_name": "ProgressStyleModel",
            "_view_count": null,
            "_view_module": "@jupyter-widgets/base",
            "_view_module_version": "1.2.0",
            "_view_name": "StyleView",
            "bar_color": null,
            "description_width": ""
          }
        },
        "297e436de54a465f9777666bb49ef149": {
          "model_module": "@jupyter-widgets/base",
          "model_module_version": "1.2.0",
          "model_name": "LayoutModel",
          "state": {
            "_model_module": "@jupyter-widgets/base",
            "_model_module_version": "1.2.0",
            "_model_name": "LayoutModel",
            "_view_count": null,
            "_view_module": "@jupyter-widgets/base",
            "_view_module_version": "1.2.0",
            "_view_name": "LayoutView",
            "align_content": null,
            "align_items": null,
            "align_self": null,
            "border": null,
            "bottom": null,
            "display": null,
            "flex": null,
            "flex_flow": null,
            "grid_area": null,
            "grid_auto_columns": null,
            "grid_auto_flow": null,
            "grid_auto_rows": null,
            "grid_column": null,
            "grid_gap": null,
            "grid_row": null,
            "grid_template_areas": null,
            "grid_template_columns": null,
            "grid_template_rows": null,
            "height": null,
            "justify_content": null,
            "justify_items": null,
            "left": null,
            "margin": null,
            "max_height": null,
            "max_width": null,
            "min_height": null,
            "min_width": null,
            "object_fit": null,
            "object_position": null,
            "order": null,
            "overflow": null,
            "overflow_x": null,
            "overflow_y": null,
            "padding": null,
            "right": null,
            "top": null,
            "visibility": null,
            "width": null
          }
        },
        "33b0aacf5e6545fa9d39313338450f65": {
          "model_module": "@jupyter-widgets/controls",
          "model_module_version": "1.5.0",
          "model_name": "DescriptionStyleModel",
          "state": {
            "_model_module": "@jupyter-widgets/controls",
            "_model_module_version": "1.5.0",
            "_model_name": "DescriptionStyleModel",
            "_view_count": null,
            "_view_module": "@jupyter-widgets/base",
            "_view_module_version": "1.2.0",
            "_view_name": "StyleView",
            "description_width": ""
          }
        },
        "48304cec4a51436bb1ed5943435feb2a": {
          "model_module": "@jupyter-widgets/controls",
          "model_module_version": "1.5.0",
          "model_name": "HBoxModel",
          "state": {
            "_dom_classes": [],
            "_model_module": "@jupyter-widgets/controls",
            "_model_module_version": "1.5.0",
            "_model_name": "HBoxModel",
            "_view_count": null,
            "_view_module": "@jupyter-widgets/controls",
            "_view_module_version": "1.5.0",
            "_view_name": "HBoxView",
            "box_style": "",
            "children": [
              "IPY_MODEL_6b07d5f8bdce4626a361a44bb45d35ed",
              "IPY_MODEL_e2c6ec73ad454c0e93e88286a5a5ea35",
              "IPY_MODEL_da85494aa9a242a987495ba550413465"
            ],
            "layout": "IPY_MODEL_a173d038a73a4d5f9c533cffee1409c0"
          }
        },
        "4917ee849a8b4be984bf046011b2cb17": {
          "model_module": "@jupyter-widgets/controls",
          "model_module_version": "1.5.0",
          "model_name": "HTMLModel",
          "state": {
            "_dom_classes": [],
            "_model_module": "@jupyter-widgets/controls",
            "_model_module_version": "1.5.0",
            "_model_name": "HTMLModel",
            "_view_count": null,
            "_view_module": "@jupyter-widgets/controls",
            "_view_module_version": "1.5.0",
            "_view_name": "HTMLView",
            "description": "",
            "description_tooltip": null,
            "layout": "IPY_MODEL_e2345ffa0b0e460eb7b60b4e6221c345",
            "placeholder": "​",
            "style": "IPY_MODEL_cd7ee65c90714baeb35c4405d7570c3f",
            "value": " 466/466 [00:00&lt;00:00, 17.5kB/s]"
          }
        },
        "526f42e10ba54e3ba22d4652302ed944": {
          "model_module": "@jupyter-widgets/controls",
          "model_module_version": "1.5.0",
          "model_name": "FloatProgressModel",
          "state": {
            "_dom_classes": [],
            "_model_module": "@jupyter-widgets/controls",
            "_model_module_version": "1.5.0",
            "_model_name": "FloatProgressModel",
            "_view_count": null,
            "_view_module": "@jupyter-widgets/controls",
            "_view_module_version": "1.5.0",
            "_view_name": "ProgressView",
            "bar_style": "success",
            "description": "",
            "description_tooltip": null,
            "layout": "IPY_MODEL_f0f72c2ed0fe4e5dbb8e7e6672ed7363",
            "max": 466,
            "min": 0,
            "orientation": "horizontal",
            "style": "IPY_MODEL_b07169989efc49949995b93aefdf5b99",
            "value": 466
          }
        },
        "654d285cff8343adb6ae7f00fb653d4c": {
          "model_module": "@jupyter-widgets/controls",
          "model_module_version": "1.5.0",
          "model_name": "HTMLModel",
          "state": {
            "_dom_classes": [],
            "_model_module": "@jupyter-widgets/controls",
            "_model_module_version": "1.5.0",
            "_model_name": "HTMLModel",
            "_view_count": null,
            "_view_module": "@jupyter-widgets/controls",
            "_view_module_version": "1.5.0",
            "_view_name": "HTMLView",
            "description": "",
            "description_tooltip": null,
            "layout": "IPY_MODEL_a204e855391f4bde96bbdb16adb50994",
            "placeholder": "​",
            "style": "IPY_MODEL_af7d4509bf4d4c4d8854d8851820c348",
            "value": "tokenizer_config.json: 100%"
          }
        },
        "6b07d5f8bdce4626a361a44bb45d35ed": {
          "model_module": "@jupyter-widgets/controls",
          "model_module_version": "1.5.0",
          "model_name": "HTMLModel",
          "state": {
            "_dom_classes": [],
            "_model_module": "@jupyter-widgets/controls",
            "_model_module_version": "1.5.0",
            "_model_name": "HTMLModel",
            "_view_count": null,
            "_view_module": "@jupyter-widgets/controls",
            "_view_module_version": "1.5.0",
            "_view_name": "HTMLView",
            "description": "",
            "description_tooltip": null,
            "layout": "IPY_MODEL_6c2160f24b244033adec7dfd56cac6e7",
            "placeholder": "​",
            "style": "IPY_MODEL_33b0aacf5e6545fa9d39313338450f65",
            "value": "vocab.txt: "
          }
        },
        "6c2160f24b244033adec7dfd56cac6e7": {
          "model_module": "@jupyter-widgets/base",
          "model_module_version": "1.2.0",
          "model_name": "LayoutModel",
          "state": {
            "_model_module": "@jupyter-widgets/base",
            "_model_module_version": "1.2.0",
            "_model_name": "LayoutModel",
            "_view_count": null,
            "_view_module": "@jupyter-widgets/base",
            "_view_module_version": "1.2.0",
            "_view_name": "LayoutView",
            "align_content": null,
            "align_items": null,
            "align_self": null,
            "border": null,
            "bottom": null,
            "display": null,
            "flex": null,
            "flex_flow": null,
            "grid_area": null,
            "grid_auto_columns": null,
            "grid_auto_flow": null,
            "grid_auto_rows": null,
            "grid_column": null,
            "grid_gap": null,
            "grid_row": null,
            "grid_template_areas": null,
            "grid_template_columns": null,
            "grid_template_rows": null,
            "height": null,
            "justify_content": null,
            "justify_items": null,
            "left": null,
            "margin": null,
            "max_height": null,
            "max_width": null,
            "min_height": null,
            "min_width": null,
            "object_fit": null,
            "object_position": null,
            "order": null,
            "overflow": null,
            "overflow_x": null,
            "overflow_y": null,
            "padding": null,
            "right": null,
            "top": null,
            "visibility": null,
            "width": null
          }
        },
        "755eb8b54e43411cb7f85a5052c5da23": {
          "model_module": "@jupyter-widgets/controls",
          "model_module_version": "1.5.0",
          "model_name": "FloatProgressModel",
          "state": {
            "_dom_classes": [],
            "_model_module": "@jupyter-widgets/controls",
            "_model_module_version": "1.5.0",
            "_model_name": "FloatProgressModel",
            "_view_count": null,
            "_view_module": "@jupyter-widgets/controls",
            "_view_module_version": "1.5.0",
            "_view_name": "ProgressView",
            "bar_style": "success",
            "description": "",
            "description_tooltip": null,
            "layout": "IPY_MODEL_297e436de54a465f9777666bb49ef149",
            "max": 60,
            "min": 0,
            "orientation": "horizontal",
            "style": "IPY_MODEL_233bf691a11b44919d89a0d6a1a7e783",
            "value": 60
          }
        },
        "81529e20e25e4b3eb70c34dbb16814a9": {
          "model_module": "@jupyter-widgets/base",
          "model_module_version": "1.2.0",
          "model_name": "LayoutModel",
          "state": {
            "_model_module": "@jupyter-widgets/base",
            "_model_module_version": "1.2.0",
            "_model_name": "LayoutModel",
            "_view_count": null,
            "_view_module": "@jupyter-widgets/base",
            "_view_module_version": "1.2.0",
            "_view_name": "LayoutView",
            "align_content": null,
            "align_items": null,
            "align_self": null,
            "border": null,
            "bottom": null,
            "display": null,
            "flex": null,
            "flex_flow": null,
            "grid_area": null,
            "grid_auto_columns": null,
            "grid_auto_flow": null,
            "grid_auto_rows": null,
            "grid_column": null,
            "grid_gap": null,
            "grid_row": null,
            "grid_template_areas": null,
            "grid_template_columns": null,
            "grid_template_rows": null,
            "height": null,
            "justify_content": null,
            "justify_items": null,
            "left": null,
            "margin": null,
            "max_height": null,
            "max_width": null,
            "min_height": null,
            "min_width": null,
            "object_fit": null,
            "object_position": null,
            "order": null,
            "overflow": null,
            "overflow_x": null,
            "overflow_y": null,
            "padding": null,
            "right": null,
            "top": null,
            "visibility": null,
            "width": null
          }
        },
        "84bdc12080034374a2ce844b626eb4e4": {
          "model_module": "@jupyter-widgets/controls",
          "model_module_version": "1.5.0",
          "model_name": "DescriptionStyleModel",
          "state": {
            "_model_module": "@jupyter-widgets/controls",
            "_model_module_version": "1.5.0",
            "_model_name": "DescriptionStyleModel",
            "_view_count": null,
            "_view_module": "@jupyter-widgets/base",
            "_view_module_version": "1.2.0",
            "_view_name": "StyleView",
            "description_width": ""
          }
        },
        "8c18f9ba610045068fbb533075bf230b": {
          "model_module": "@jupyter-widgets/base",
          "model_module_version": "1.2.0",
          "model_name": "LayoutModel",
          "state": {
            "_model_module": "@jupyter-widgets/base",
            "_model_module_version": "1.2.0",
            "_model_name": "LayoutModel",
            "_view_count": null,
            "_view_module": "@jupyter-widgets/base",
            "_view_module_version": "1.2.0",
            "_view_name": "LayoutView",
            "align_content": null,
            "align_items": null,
            "align_self": null,
            "border": null,
            "bottom": null,
            "display": null,
            "flex": null,
            "flex_flow": null,
            "grid_area": null,
            "grid_auto_columns": null,
            "grid_auto_flow": null,
            "grid_auto_rows": null,
            "grid_column": null,
            "grid_gap": null,
            "grid_row": null,
            "grid_template_areas": null,
            "grid_template_columns": null,
            "grid_template_rows": null,
            "height": null,
            "justify_content": null,
            "justify_items": null,
            "left": null,
            "margin": null,
            "max_height": null,
            "max_width": null,
            "min_height": null,
            "min_width": null,
            "object_fit": null,
            "object_position": null,
            "order": null,
            "overflow": null,
            "overflow_x": null,
            "overflow_y": null,
            "padding": null,
            "right": null,
            "top": null,
            "visibility": null,
            "width": null
          }
        },
        "8db98009402a42df9f77bb6a3af18139": {
          "model_module": "@jupyter-widgets/controls",
          "model_module_version": "1.5.0",
          "model_name": "HBoxModel",
          "state": {
            "_dom_classes": [],
            "_model_module": "@jupyter-widgets/controls",
            "_model_module_version": "1.5.0",
            "_model_name": "HBoxModel",
            "_view_count": null,
            "_view_module": "@jupyter-widgets/controls",
            "_view_module_version": "1.5.0",
            "_view_name": "HBoxView",
            "box_style": "",
            "children": [
              "IPY_MODEL_654d285cff8343adb6ae7f00fb653d4c",
              "IPY_MODEL_755eb8b54e43411cb7f85a5052c5da23",
              "IPY_MODEL_98f38a79e7f14dbba6fa87ef232e9f73"
            ],
            "layout": "IPY_MODEL_c60a8c9ce7f943a6b758db1a77035a30"
          }
        },
        "8dc7983e7b944556b6ed6f6d32937b25": {
          "model_module": "@jupyter-widgets/base",
          "model_module_version": "1.2.0",
          "model_name": "LayoutModel",
          "state": {
            "_model_module": "@jupyter-widgets/base",
            "_model_module_version": "1.2.0",
            "_model_name": "LayoutModel",
            "_view_count": null,
            "_view_module": "@jupyter-widgets/base",
            "_view_module_version": "1.2.0",
            "_view_name": "LayoutView",
            "align_content": null,
            "align_items": null,
            "align_self": null,
            "border": null,
            "bottom": null,
            "display": null,
            "flex": null,
            "flex_flow": null,
            "grid_area": null,
            "grid_auto_columns": null,
            "grid_auto_flow": null,
            "grid_auto_rows": null,
            "grid_column": null,
            "grid_gap": null,
            "grid_row": null,
            "grid_template_areas": null,
            "grid_template_columns": null,
            "grid_template_rows": null,
            "height": null,
            "justify_content": null,
            "justify_items": null,
            "left": null,
            "margin": null,
            "max_height": null,
            "max_width": null,
            "min_height": null,
            "min_width": null,
            "object_fit": null,
            "object_position": null,
            "order": null,
            "overflow": null,
            "overflow_x": null,
            "overflow_y": null,
            "padding": null,
            "right": null,
            "top": null,
            "visibility": null,
            "width": null
          }
        },
        "8de96ebf220443218a1e39ea28e92603": {
          "model_module": "@jupyter-widgets/controls",
          "model_module_version": "1.5.0",
          "model_name": "HTMLModel",
          "state": {
            "_dom_classes": [],
            "_model_module": "@jupyter-widgets/controls",
            "_model_module_version": "1.5.0",
            "_model_name": "HTMLModel",
            "_view_count": null,
            "_view_module": "@jupyter-widgets/controls",
            "_view_module_version": "1.5.0",
            "_view_name": "HTMLView",
            "description": "",
            "description_tooltip": null,
            "layout": "IPY_MODEL_ab29911f3ba14808a75b24b7371be566",
            "placeholder": "​",
            "style": "IPY_MODEL_84bdc12080034374a2ce844b626eb4e4",
            "value": "config.json: 100%"
          }
        },
        "98f38a79e7f14dbba6fa87ef232e9f73": {
          "model_module": "@jupyter-widgets/controls",
          "model_module_version": "1.5.0",
          "model_name": "HTMLModel",
          "state": {
            "_dom_classes": [],
            "_model_module": "@jupyter-widgets/controls",
            "_model_module_version": "1.5.0",
            "_model_name": "HTMLModel",
            "_view_count": null,
            "_view_module": "@jupyter-widgets/controls",
            "_view_module_version": "1.5.0",
            "_view_name": "HTMLView",
            "description": "",
            "description_tooltip": null,
            "layout": "IPY_MODEL_81529e20e25e4b3eb70c34dbb16814a9",
            "placeholder": "​",
            "style": "IPY_MODEL_2214e5d193c043369f17d9798d0000f3",
            "value": " 60.0/60.0 [00:00&lt;00:00, 882B/s]"
          }
        },
        "a173d038a73a4d5f9c533cffee1409c0": {
          "model_module": "@jupyter-widgets/base",
          "model_module_version": "1.2.0",
          "model_name": "LayoutModel",
          "state": {
            "_model_module": "@jupyter-widgets/base",
            "_model_module_version": "1.2.0",
            "_model_name": "LayoutModel",
            "_view_count": null,
            "_view_module": "@jupyter-widgets/base",
            "_view_module_version": "1.2.0",
            "_view_name": "LayoutView",
            "align_content": null,
            "align_items": null,
            "align_self": null,
            "border": null,
            "bottom": null,
            "display": null,
            "flex": null,
            "flex_flow": null,
            "grid_area": null,
            "grid_auto_columns": null,
            "grid_auto_flow": null,
            "grid_auto_rows": null,
            "grid_column": null,
            "grid_gap": null,
            "grid_row": null,
            "grid_template_areas": null,
            "grid_template_columns": null,
            "grid_template_rows": null,
            "height": null,
            "justify_content": null,
            "justify_items": null,
            "left": null,
            "margin": null,
            "max_height": null,
            "max_width": null,
            "min_height": null,
            "min_width": null,
            "object_fit": null,
            "object_position": null,
            "order": null,
            "overflow": null,
            "overflow_x": null,
            "overflow_y": null,
            "padding": null,
            "right": null,
            "top": null,
            "visibility": null,
            "width": null
          }
        },
        "a204e855391f4bde96bbdb16adb50994": {
          "model_module": "@jupyter-widgets/base",
          "model_module_version": "1.2.0",
          "model_name": "LayoutModel",
          "state": {
            "_model_module": "@jupyter-widgets/base",
            "_model_module_version": "1.2.0",
            "_model_name": "LayoutModel",
            "_view_count": null,
            "_view_module": "@jupyter-widgets/base",
            "_view_module_version": "1.2.0",
            "_view_name": "LayoutView",
            "align_content": null,
            "align_items": null,
            "align_self": null,
            "border": null,
            "bottom": null,
            "display": null,
            "flex": null,
            "flex_flow": null,
            "grid_area": null,
            "grid_auto_columns": null,
            "grid_auto_flow": null,
            "grid_auto_rows": null,
            "grid_column": null,
            "grid_gap": null,
            "grid_row": null,
            "grid_template_areas": null,
            "grid_template_columns": null,
            "grid_template_rows": null,
            "height": null,
            "justify_content": null,
            "justify_items": null,
            "left": null,
            "margin": null,
            "max_height": null,
            "max_width": null,
            "min_height": null,
            "min_width": null,
            "object_fit": null,
            "object_position": null,
            "order": null,
            "overflow": null,
            "overflow_x": null,
            "overflow_y": null,
            "padding": null,
            "right": null,
            "top": null,
            "visibility": null,
            "width": null
          }
        },
        "a7382519f453498eb288afa938aa5276": {
          "model_module": "@jupyter-widgets/controls",
          "model_module_version": "1.5.0",
          "model_name": "DescriptionStyleModel",
          "state": {
            "_model_module": "@jupyter-widgets/controls",
            "_model_module_version": "1.5.0",
            "_model_name": "DescriptionStyleModel",
            "_view_count": null,
            "_view_module": "@jupyter-widgets/base",
            "_view_module_version": "1.2.0",
            "_view_name": "StyleView",
            "description_width": ""
          }
        },
        "ab29911f3ba14808a75b24b7371be566": {
          "model_module": "@jupyter-widgets/base",
          "model_module_version": "1.2.0",
          "model_name": "LayoutModel",
          "state": {
            "_model_module": "@jupyter-widgets/base",
            "_model_module_version": "1.2.0",
            "_model_name": "LayoutModel",
            "_view_count": null,
            "_view_module": "@jupyter-widgets/base",
            "_view_module_version": "1.2.0",
            "_view_name": "LayoutView",
            "align_content": null,
            "align_items": null,
            "align_self": null,
            "border": null,
            "bottom": null,
            "display": null,
            "flex": null,
            "flex_flow": null,
            "grid_area": null,
            "grid_auto_columns": null,
            "grid_auto_flow": null,
            "grid_auto_rows": null,
            "grid_column": null,
            "grid_gap": null,
            "grid_row": null,
            "grid_template_areas": null,
            "grid_template_columns": null,
            "grid_template_rows": null,
            "height": null,
            "justify_content": null,
            "justify_items": null,
            "left": null,
            "margin": null,
            "max_height": null,
            "max_width": null,
            "min_height": null,
            "min_width": null,
            "object_fit": null,
            "object_position": null,
            "order": null,
            "overflow": null,
            "overflow_x": null,
            "overflow_y": null,
            "padding": null,
            "right": null,
            "top": null,
            "visibility": null,
            "width": null
          }
        },
        "af7d4509bf4d4c4d8854d8851820c348": {
          "model_module": "@jupyter-widgets/controls",
          "model_module_version": "1.5.0",
          "model_name": "DescriptionStyleModel",
          "state": {
            "_model_module": "@jupyter-widgets/controls",
            "_model_module_version": "1.5.0",
            "_model_name": "DescriptionStyleModel",
            "_view_count": null,
            "_view_module": "@jupyter-widgets/base",
            "_view_module_version": "1.2.0",
            "_view_name": "StyleView",
            "description_width": ""
          }
        },
        "b07169989efc49949995b93aefdf5b99": {
          "model_module": "@jupyter-widgets/controls",
          "model_module_version": "1.5.0",
          "model_name": "ProgressStyleModel",
          "state": {
            "_model_module": "@jupyter-widgets/controls",
            "_model_module_version": "1.5.0",
            "_model_name": "ProgressStyleModel",
            "_view_count": null,
            "_view_module": "@jupyter-widgets/base",
            "_view_module_version": "1.2.0",
            "_view_name": "StyleView",
            "bar_color": null,
            "description_width": ""
          }
        },
        "c60a8c9ce7f943a6b758db1a77035a30": {
          "model_module": "@jupyter-widgets/base",
          "model_module_version": "1.2.0",
          "model_name": "LayoutModel",
          "state": {
            "_model_module": "@jupyter-widgets/base",
            "_model_module_version": "1.2.0",
            "_model_name": "LayoutModel",
            "_view_count": null,
            "_view_module": "@jupyter-widgets/base",
            "_view_module_version": "1.2.0",
            "_view_name": "LayoutView",
            "align_content": null,
            "align_items": null,
            "align_self": null,
            "border": null,
            "bottom": null,
            "display": null,
            "flex": null,
            "flex_flow": null,
            "grid_area": null,
            "grid_auto_columns": null,
            "grid_auto_flow": null,
            "grid_auto_rows": null,
            "grid_column": null,
            "grid_gap": null,
            "grid_row": null,
            "grid_template_areas": null,
            "grid_template_columns": null,
            "grid_template_rows": null,
            "height": null,
            "justify_content": null,
            "justify_items": null,
            "left": null,
            "margin": null,
            "max_height": null,
            "max_width": null,
            "min_height": null,
            "min_width": null,
            "object_fit": null,
            "object_position": null,
            "order": null,
            "overflow": null,
            "overflow_x": null,
            "overflow_y": null,
            "padding": null,
            "right": null,
            "top": null,
            "visibility": null,
            "width": null
          }
        },
        "cd7ee65c90714baeb35c4405d7570c3f": {
          "model_module": "@jupyter-widgets/controls",
          "model_module_version": "1.5.0",
          "model_name": "DescriptionStyleModel",
          "state": {
            "_model_module": "@jupyter-widgets/controls",
            "_model_module_version": "1.5.0",
            "_model_name": "DescriptionStyleModel",
            "_view_count": null,
            "_view_module": "@jupyter-widgets/base",
            "_view_module_version": "1.2.0",
            "_view_name": "StyleView",
            "description_width": ""
          }
        },
        "da85494aa9a242a987495ba550413465": {
          "model_module": "@jupyter-widgets/controls",
          "model_module_version": "1.5.0",
          "model_name": "HTMLModel",
          "state": {
            "_dom_classes": [],
            "_model_module": "@jupyter-widgets/controls",
            "_model_module_version": "1.5.0",
            "_model_name": "HTMLModel",
            "_view_count": null,
            "_view_module": "@jupyter-widgets/controls",
            "_view_module_version": "1.5.0",
            "_view_name": "HTMLView",
            "description": "",
            "description_tooltip": null,
            "layout": "IPY_MODEL_8c18f9ba610045068fbb533075bf230b",
            "placeholder": "​",
            "style": "IPY_MODEL_a7382519f453498eb288afa938aa5276",
            "value": " 279k/? [00:00&lt;00:00, 4.06MB/s]"
          }
        },
        "e2345ffa0b0e460eb7b60b4e6221c345": {
          "model_module": "@jupyter-widgets/base",
          "model_module_version": "1.2.0",
          "model_name": "LayoutModel",
          "state": {
            "_model_module": "@jupyter-widgets/base",
            "_model_module_version": "1.2.0",
            "_model_name": "LayoutModel",
            "_view_count": null,
            "_view_module": "@jupyter-widgets/base",
            "_view_module_version": "1.2.0",
            "_view_name": "LayoutView",
            "align_content": null,
            "align_items": null,
            "align_self": null,
            "border": null,
            "bottom": null,
            "display": null,
            "flex": null,
            "flex_flow": null,
            "grid_area": null,
            "grid_auto_columns": null,
            "grid_auto_flow": null,
            "grid_auto_rows": null,
            "grid_column": null,
            "grid_gap": null,
            "grid_row": null,
            "grid_template_areas": null,
            "grid_template_columns": null,
            "grid_template_rows": null,
            "height": null,
            "justify_content": null,
            "justify_items": null,
            "left": null,
            "margin": null,
            "max_height": null,
            "max_width": null,
            "min_height": null,
            "min_width": null,
            "object_fit": null,
            "object_position": null,
            "order": null,
            "overflow": null,
            "overflow_x": null,
            "overflow_y": null,
            "padding": null,
            "right": null,
            "top": null,
            "visibility": null,
            "width": null
          }
        },
        "e2c6ec73ad454c0e93e88286a5a5ea35": {
          "model_module": "@jupyter-widgets/controls",
          "model_module_version": "1.5.0",
          "model_name": "FloatProgressModel",
          "state": {
            "_dom_classes": [],
            "_model_module": "@jupyter-widgets/controls",
            "_model_module_version": "1.5.0",
            "_model_name": "FloatProgressModel",
            "_view_count": null,
            "_view_module": "@jupyter-widgets/controls",
            "_view_module_version": "1.5.0",
            "_view_name": "ProgressView",
            "bar_style": "success",
            "description": "",
            "description_tooltip": null,
            "layout": "IPY_MODEL_21bdc6eaa88f4d75951435d314da6750",
            "max": 1,
            "min": 0,
            "orientation": "horizontal",
            "style": "IPY_MODEL_19f3e98a244445099036e06c4ab3eba0",
            "value": 1
          }
        },
        "f0f72c2ed0fe4e5dbb8e7e6672ed7363": {
          "model_module": "@jupyter-widgets/base",
          "model_module_version": "1.2.0",
          "model_name": "LayoutModel",
          "state": {
            "_model_module": "@jupyter-widgets/base",
            "_model_module_version": "1.2.0",
            "_model_name": "LayoutModel",
            "_view_count": null,
            "_view_module": "@jupyter-widgets/base",
            "_view_module_version": "1.2.0",
            "_view_name": "LayoutView",
            "align_content": null,
            "align_items": null,
            "align_self": null,
            "border": null,
            "bottom": null,
            "display": null,
            "flex": null,
            "flex_flow": null,
            "grid_area": null,
            "grid_auto_columns": null,
            "grid_auto_flow": null,
            "grid_auto_rows": null,
            "grid_column": null,
            "grid_gap": null,
            "grid_row": null,
            "grid_template_areas": null,
            "grid_template_columns": null,
            "grid_template_rows": null,
            "height": null,
            "justify_content": null,
            "justify_items": null,
            "left": null,
            "margin": null,
            "max_height": null,
            "max_width": null,
            "min_height": null,
            "min_width": null,
            "object_fit": null,
            "object_position": null,
            "order": null,
            "overflow": null,
            "overflow_x": null,
            "overflow_y": null,
            "padding": null,
            "right": null,
            "top": null,
            "visibility": null,
            "width": null
          }
        }
      }
    }
  },
  "nbformat": 4,
  "nbformat_minor": 0
}
